{
 "cells": [
  {
   "cell_type": "code",
   "execution_count": 19,
   "metadata": {},
   "outputs": [],
   "source": [
    "import numpy as np\n",
    "import pandas as pd\n",
    "import geopandas as gpd\n",
    "import rasterio\n",
    "from rasterio.plot import show\n",
    "import matplotlib.pyplot as plt\n",
    "from shapely.geometry import Point, Polygon\n",
    "from scipy.ndimage import gaussian_filter\n"
   ]
  },
  {
   "cell_type": "code",
   "execution_count": null,
   "metadata": {},
   "outputs": [],
   "source": [
    "\n",
    "# Correct path based on your folder structure\n",
    "admin_regions = gpd.read_file(\"nepal_climate_data/nepal_admin_regions.gpkg\")\n",
    "print(admin_regions.head())  # Check if it loads correctly\n"
   ]
  },
  {
   "cell_type": "code",
   "execution_count": 20,
   "metadata": {},
   "outputs": [],
   "source": [
    "#Load Nepal's GIS Data\n",
    "\n",
    "\n",
    "# Load Nepal's administrative boundaries\n",
    "nepal_admin = gpd.read_file(\"nepal_climate_data/nepal_admin_regions.gpkg\")\n",
    "\n",
    "# Load Nepal's rivers\n",
    "nepal_rivers = gpd.read_file(\"nepal_climate_data/nepal_rivers.gpkg\")\n",
    "\n",
    "# Load Nepal's glaciers\n",
    "nepal_glaciers = gpd.read_file(\"nepal_climate_data/nepal_glaciers.gpkg\")\n",
    "\n",
    "# Load local administrative units (Shapefile)\n",
    "local_units = gpd.read_file(\"Shape_Data/local_unit.shp\")\n"
   ]
  },
  {
   "cell_type": "code",
   "execution_count": 21,
   "metadata": {},
   "outputs": [],
   "source": [
    "#Load Climate Raster Data (Temperature & Precipitation)\n",
    "\n",
    "# Function to read raster files\n",
    "def load_raster(file_path):\n",
    "    with rasterio.open(file_path) as src:\n",
    "        raster_data = src.read(1)  # Read first band\n",
    "        transform = src.transform\n",
    "    return raster_data, transform\n",
    "\n",
    "# Load temperature and precipitation data\n",
    "temp_2020, temp_transform = load_raster(\"nepal_climate_data/nepal_temperature_2020.tif\")\n",
    "temp_2050, _ = load_raster(\"nepal_climate_data/nepal_temperature_2050.tif\")\n",
    "precip_2020, precip_transform = load_raster(\"nepal_climate_data/nepal_precipitation_2020.tif\")\n",
    "precip_2050, _ = load_raster(\"nepal_climate_data/nepal_precipitation_2050.tif\")\n"
   ]
  },
  {
   "cell_type": "code",
   "execution_count": null,
   "metadata": {},
   "outputs": [],
   "source": [
    "#Plot Nepal's Administrative Boundaries with Rivers\n",
    "\n",
    "fig, ax = plt.subplots(figsize=(10, 6))\n",
    "nepal_admin.plot(ax=ax, edgecolor=\"black\", facecolor=\"none\", linewidth=1)\n",
    "nepal_rivers.plot(ax=ax, color=\"blue\", linewidth=0.5, alpha=0.7)\n",
    "plt.title(\"Nepal Administrative Boundaries & Rivers\")\n",
    "plt.show()\n"
   ]
  },
  {
   "cell_type": "code",
   "execution_count": null,
   "metadata": {},
   "outputs": [],
   "source": [
    "#Visualize Temperature Data\n",
    "\n",
    "fig, ax = plt.subplots(figsize=(10, 6))\n",
    "show(temp_2020, transform=temp_transform, cmap=\"coolwarm\", ax=ax)\n",
    "nepal_admin.plot(ax=ax, edgecolor=\"black\", facecolor=\"none\", linewidth=1)\n",
    "plt.title(\"Temperature Distribution in Nepal (2020)\")\n",
    "plt.show()\n"
   ]
  },
  {
   "cell_type": "code",
   "execution_count": null,
   "metadata": {},
   "outputs": [],
   "source": [
    "#Compare Temperature Changes (2020 vs. 2050)\n",
    "\n",
    "fig, axes = plt.subplots(1, 2, figsize=(12, 6))\n",
    "\n",
    "# 2020 Temperature\n",
    "show(temp_2020, transform=temp_transform, cmap=\"coolwarm\", ax=axes[0])\n",
    "nepal_admin.plot(ax=axes[0], edgecolor=\"black\", facecolor=\"none\", linewidth=1)\n",
    "axes[0].set_title(\"Temperature 2020\")\n",
    "\n",
    "# 2050 Temperature\n",
    "show(temp_2050, transform=temp_transform, cmap=\"coolwarm\", ax=axes[1])\n",
    "nepal_admin.plot(ax=axes[1], edgecolor=\"black\", facecolor=\"none\", linewidth=1)\n",
    "axes[1].set_title(\"Temperature 2050\")\n",
    "\n",
    "plt.tight_layout()\n",
    "plt.show()\n"
   ]
  },
  {
   "cell_type": "code",
   "execution_count": null,
   "metadata": {},
   "outputs": [],
   "source": [
    "#Apply Gaussian Smoothing to Climate Data\n",
    "\n",
    "smoothed_temp = gaussian_filter(temp_2020, sigma=2)\n",
    "fig, ax = plt.subplots(figsize=(10, 6))\n",
    "show(smoothed_temp, transform=temp_transform, cmap=\"coolwarm\", ax=ax)\n",
    "nepal_admin.plot(ax=ax, edgecolor=\"black\", facecolor=\"none\", linewidth=1)\n",
    "plt.title(\"Smoothed Temperature Data (2020)\")\n",
    "plt.show()\n"
   ]
  },
  {
   "cell_type": "code",
   "execution_count": null,
   "metadata": {},
   "outputs": [],
   "source": [
    "#Plot Precipitation Data (2020 & 2050)\n",
    "\n",
    "fig, axes = plt.subplots(1, 2, figsize=(12, 6))\n",
    "\n",
    "# 2020 Precipitation\n",
    "show(precip_2020, transform=precip_transform, cmap=\"Blues\", ax=axes[0])\n",
    "nepal_admin.plot(ax=axes[0], edgecolor=\"black\", facecolor=\"none\", linewidth=1)\n",
    "axes[0].set_title(\"Precipitation 2020\")\n",
    "\n",
    "# 2050 Precipitation\n",
    "show(precip_2050, transform=precip_transform, cmap=\"Blues\", ax=axes[1])\n",
    "nepal_admin.plot(ax=axes[1], edgecolor=\"black\", facecolor=\"none\", linewidth=1)\n",
    "axes[1].set_title(\"Precipitation 2050\")\n",
    "\n",
    "plt.tight_layout()\n",
    "plt.show()\n"
   ]
  },
  {
   "cell_type": "code",
   "execution_count": null,
   "metadata": {},
   "outputs": [],
   "source": [
    "#Compute Precipitation Change\n",
    "\n",
    "precip_change = precip_2050 - precip_2020  # Change in precipitation\n",
    "fig, ax = plt.subplots(figsize=(10, 6))\n",
    "show(precip_change, transform=precip_transform, cmap=\"RdYlBu\", ax=ax)\n",
    "nepal_admin.plot(ax=ax, edgecolor=\"black\", facecolor=\"none\", linewidth=1)\n",
    "plt.title(\"Change in Precipitation (2020-2050)\")\n",
    "plt.colorbar(ax.images[0], label=\"Change in mm\")\n",
    "plt.show()\n"
   ]
  },
  {
   "cell_type": "code",
   "execution_count": null,
   "metadata": {},
   "outputs": [],
   "source": [
    "#Compute Temperature Change\n",
    "\n",
    "temp_change = temp_2050 - temp_2020  # Increase in temperature\n",
    "\n",
    "fig, ax = plt.subplots(figsize=(10, 6))\n",
    "show(temp_change, transform=temp_transform, cmap=\"coolwarm\", ax=ax)\n",
    "nepal_admin.plot(ax=ax, edgecolor=\"black\", facecolor=\"none\", linewidth=1)\n",
    "plt.title(\"Projected Temperature Change (2020-2050)\")\n",
    "plt.colorbar(ax.images[0], label=\"Temperature Change (°C)\")\n",
    "plt.show()\n"
   ]
  },
  {
   "cell_type": "code",
   "execution_count": null,
   "metadata": {},
   "outputs": [],
   "source": [
    "#Compute Average Temperature Increase\n",
    "\n",
    "avg_temp_increase = np.nanmean(temp_change)  # Ignore NaNs\n",
    "print(f\"Average Temperature Increase (2020-2050): {avg_temp_increase:.2f}°C\")\n"
   ]
  },
  {
   "cell_type": "code",
   "execution_count": null,
   "metadata": {},
   "outputs": [],
   "source": [
    "#Interactive Maps using folium\n",
    "\n",
    "#Create a Base Map\n",
    "\n",
    "import folium\n",
    "\n",
    "# Define Nepal's center coordinates (approximate)\n",
    "nepal_center = [28.3949, 84.1240]  \n",
    "m = folium.Map(location=nepal_center, zoom_start=6)\n",
    "\n",
    "# Add administrative boundaries\n",
    "folium.GeoJson(nepal_admin, name=\"Nepal Admin Boundaries\").add_to(m)\n",
    "\n",
    "# Show the map\n",
    "m\n"
   ]
  },
  {
   "cell_type": "code",
   "execution_count": null,
   "metadata": {},
   "outputs": [],
   "source": [
    "#Add Temperature Change as a Heatmap\n",
    "\n",
    "from folium.plugins import HeatMap\n",
    "\n",
    "# Convert raster to list of (lat, lon, value)\n",
    "temp_change_points = []\n",
    "for row in range(temp_change.shape[0]):\n",
    "    for col in range(temp_change.shape[1]):\n",
    "        value = temp_change[row, col]\n",
    "        if not np.isnan(value):  # Ignore NaNs\n",
    "            lon, lat = temp_transform * (col, row)\n",
    "            temp_change_points.append([lat, lon, value])\n",
    "\n",
    "# Add heatmap layer\n",
    "HeatMap(temp_change_points, radius=15, name=\"Temperature Change\").add_to(m)\n",
    "\n",
    "# Show map\n",
    "m\n"
   ]
  },
  {
   "cell_type": "code",
   "execution_count": 32,
   "metadata": {},
   "outputs": [
    {
     "name": "stdout",
     "output_type": "stream",
     "text": [
      "Temperature 2020 Mean: -7.58°C\n",
      "Temperature 2050 Mean: -5.47°C\n",
      "Temperature Variance: 53.22\n",
      "Maximum Temperature Increase: 3.33°C\n",
      "\n",
      "Precipitation 2020 Mean: 50.84 mm\n",
      "Precipitation 2050 Mean: 48.29 mm\n",
      "Precipitation Variance: 129.79\n",
      "Maximum Precipitation Change: 32.14 mm\n"
     ]
    }
   ],
   "source": [
    "#Statistical Analysis\n",
    "\n",
    "#Compute Statistics\n",
    "# Temperature statistics\n",
    "temp_2020_mean = np.nanmean(temp_2020)\n",
    "temp_2050_mean = np.nanmean(temp_2050)\n",
    "temp_variance = np.nanvar(temp_2020)\n",
    "temp_max = np.nanmax(temp_2050) - np.nanmax(temp_2020)\n",
    "\n",
    "# Precipitation statistics\n",
    "precip_2020_mean = np.nanmean(precip_2020)\n",
    "precip_2050_mean = np.nanmean(precip_2050)\n",
    "precip_variance = np.nanvar(precip_2020)\n",
    "precip_max = np.nanmax(precip_2050) - np.nanmax(precip_2020)\n",
    "\n",
    "print(f\"Temperature 2020 Mean: {temp_2020_mean:.2f}°C\")\n",
    "print(f\"Temperature 2050 Mean: {temp_2050_mean:.2f}°C\")\n",
    "print(f\"Temperature Variance: {temp_variance:.2f}\")\n",
    "print(f\"Maximum Temperature Increase: {temp_max:.2f}°C\\n\")\n",
    "\n",
    "print(f\"Precipitation 2020 Mean: {precip_2020_mean:.2f} mm\")\n",
    "print(f\"Precipitation 2050 Mean: {precip_2050_mean:.2f} mm\")\n",
    "print(f\"Precipitation Variance: {precip_variance:.2f}\")\n",
    "print(f\"Maximum Precipitation Change: {precip_max:.2f} mm\")\n"
   ]
  }
 ],
 "metadata": {
  "kernelspec": {
   "display_name": "base",
   "language": "python",
   "name": "python3"
  },
  "language_info": {
   "codemirror_mode": {
    "name": "ipython",
    "version": 3
   },
   "file_extension": ".py",
   "mimetype": "text/x-python",
   "name": "python",
   "nbconvert_exporter": "python",
   "pygments_lexer": "ipython3",
   "version": "3.12.7"
  }
 },
 "nbformat": 4,
 "nbformat_minor": 2
}
